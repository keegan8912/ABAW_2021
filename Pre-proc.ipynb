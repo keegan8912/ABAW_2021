{
 "cells": [
  {
   "cell_type": "code",
   "execution_count": 1,
   "metadata": {},
   "outputs": [],
   "source": [
    "import numpy as np\n",
    "import pandas as pd\n",
    "import os\n",
    "import natsort\n",
    "from tqdm import tqdm\n",
    "import pickle"
   ]
  },
  {
   "cell_type": "code",
   "execution_count": 2,
   "metadata": {},
   "outputs": [],
   "source": [
    "train_label_path = '/var/storage/cube-data/others/EXPR_Set/Train_Set/'\n",
    "train_data_path = '/var/storage/cube-data/others/Tar/cropped_aligned/'"
   ]
  },
  {
   "cell_type": "code",
   "execution_count": 15,
   "metadata": {},
   "outputs": [],
   "source": [
    "testing_og_path = '/var/storage/cube-data/others/test_set_Expr_Challenge.txt'"
   ]
  },
  {
   "cell_type": "code",
   "execution_count": 4,
   "metadata": {},
   "outputs": [],
   "source": [
    "all_label_files = natsort.natsorted(os.listdir(train_label_path))"
   ]
  },
  {
   "cell_type": "code",
   "execution_count": 5,
   "metadata": {},
   "outputs": [
    {
     "name": "stderr",
     "output_type": "stream",
     "text": [
      "100%|██████████| 253/253 [00:00<00:00, 915.48it/s]\n"
     ]
    }
   ],
   "source": [
    "all_labels = []\n",
    "\n",
    "for file in tqdm(all_label_files):\n",
    "    with open(os.path.join(train_label_path,file), 'r') as f:\n",
    "        next(f)\n",
    "        l = f.read().split()\n",
    "        for each_ in l:\n",
    "            all_labels.append(int(each_))"
   ]
  },
  {
   "cell_type": "code",
   "execution_count": 7,
   "metadata": {},
   "outputs": [
    {
     "data": {
      "text/plain": [
       "1121030"
      ]
     },
     "execution_count": 7,
     "metadata": {},
     "output_type": "execute_result"
    }
   ],
   "source": [
    "len(all_labels)"
   ]
  },
  {
   "cell_type": "code",
   "execution_count": null,
   "metadata": {},
   "outputs": [],
   "source": [
    "all_training_files = natsort.natsorted(os.listdir(train_data_path))"
   ]
  },
  {
   "cell_type": "code",
   "execution_count": 8,
   "metadata": {},
   "outputs": [
    {
     "name": "stderr",
     "output_type": "stream",
     "text": [
      "  3%|▎         | 8/253 [00:00<00:06, 35.72it/s]"
     ]
    },
    {
     "name": "stdout",
     "output_type": "stream",
     "text": [
      "Empty\n",
      ".DS_Store\n"
     ]
    },
    {
     "name": "stderr",
     "output_type": "stream",
     "text": [
      "  7%|▋         | 17/253 [00:00<00:08, 26.52it/s]"
     ]
    },
    {
     "name": "stdout",
     "output_type": "stream",
     "text": [
      ".DS_Store\n",
      ".DS_Store\n"
     ]
    },
    {
     "name": "stderr",
     "output_type": "stream",
     "text": [
      " 20%|██        | 51/253 [00:01<00:05, 37.00it/s]"
     ]
    },
    {
     "name": "stdout",
     "output_type": "stream",
     "text": [
      ".DS_Store\n",
      ".DS_Store\n"
     ]
    },
    {
     "name": "stderr",
     "output_type": "stream",
     "text": [
      " 51%|█████     | 129/253 [00:04<00:05, 22.25it/s]"
     ]
    },
    {
     "name": "stdout",
     "output_type": "stream",
     "text": [
      ".DS_Store\n"
     ]
    },
    {
     "name": "stderr",
     "output_type": "stream",
     "text": [
      " 92%|█████████▏| 232/253 [00:09<00:01, 16.54it/s]"
     ]
    },
    {
     "name": "stdout",
     "output_type": "stream",
     "text": [
      ".DS_Store\n",
      ".DS_Store\n"
     ]
    },
    {
     "name": "stderr",
     "output_type": "stream",
     "text": [
      "100%|██████████| 253/253 [00:10<00:00, 23.55it/s]\n"
     ]
    }
   ],
   "source": [
    "df = pd.DataFrame()\n",
    "df_temp = pd.DataFrame()\n",
    "for label_folder in tqdm(all_label_files):\n",
    "    all_labels = []\n",
    "    with open(os.path.join(train_label_path,label_folder), 'r') as f:\n",
    "        next(f)\n",
    "        l = f.read().split()\n",
    "        for each_ in l:\n",
    "            all_labels.append(int(each_))\n",
    "    all_data = [0]*len(all_labels)\n",
    "    folder_path = label_folder.split('.')[0]\n",
    "    try:\n",
    "        files_in_folder = os.listdir(os.path.join(train_data_path, folder_path))\n",
    "    except NotADirectoryError:\n",
    "        print(f'Skipping: {folder_path}')\n",
    "        continue\n",
    "    for each_file in files_in_folder:\n",
    "        try:\n",
    "            idx = int(each_file.split('.')[0])\n",
    "            all_data[idx-1] = os.path.join(os.path.join(train_data_path, folder_path),each_file)\n",
    "        except ValueError:\n",
    "            print(each_file)\n",
    "    df_temp['Files'] = all_data\n",
    "    df_temp['labels'] = all_labels\n",
    "#     print(df_temp.shape)\n",
    "    if df.empty:\n",
    "        df = df_temp\n",
    "        print('Empty')\n",
    "    else:\n",
    "#         df.append(df_temp)\n",
    "        df = pd.concat([df, df_temp])\n",
    "    df_temp = pd.DataFrame()"
   ]
  },
  {
   "cell_type": "code",
   "execution_count": 9,
   "metadata": {},
   "outputs": [
    {
     "data": {
      "text/plain": [
       "(1121030, 2)"
      ]
     },
     "execution_count": 9,
     "metadata": {},
     "output_type": "execute_result"
    }
   ],
   "source": [
    "df.shape"
   ]
  },
  {
   "cell_type": "code",
   "execution_count": 11,
   "metadata": {},
   "outputs": [
    {
     "data": {
      "text/plain": [
       "(20524, 2)"
      ]
     },
     "execution_count": 11,
     "metadata": {},
     "output_type": "execute_result"
    }
   ],
   "source": [
    "df[df.Files == 0].shape"
   ]
  },
  {
   "cell_type": "code",
   "execution_count": null,
   "metadata": {},
   "outputs": [],
   "source": [
    "df = df[df.Files != 0]\n",
    "df = df[df.labels != -1]"
   ]
  },
  {
   "cell_type": "code",
   "execution_count": null,
   "metadata": {},
   "outputs": [],
   "source": [
    "df.shape"
   ]
  },
  {
   "cell_type": "code",
   "execution_count": null,
   "metadata": {},
   "outputs": [],
   "source": [
    "df.labels.value_counts().sum()"
   ]
  },
  {
   "cell_type": "code",
   "execution_count": null,
   "metadata": {},
   "outputs": [],
   "source": [
    "with open('df_train_set.pickle','wb') as trf:\n",
    "    pickle.dump(df, trf)"
   ]
  },
  {
   "cell_type": "code",
   "execution_count": null,
   "metadata": {},
   "outputs": [],
   "source": [
    "test_label_path = '/var/storage/cube-data/others/EXPR_Set/Validation_Set/'"
   ]
  },
  {
   "cell_type": "code",
   "execution_count": null,
   "metadata": {},
   "outputs": [],
   "source": [
    "all_label_files = natsort.natsorted(os.listdir(test_label_path))"
   ]
  },
  {
   "cell_type": "code",
   "execution_count": 28,
   "metadata": {},
   "outputs": [
    {
     "name": "stderr",
     "output_type": "stream",
     "text": [
      "  3%|▎         | 6/223 [00:00<00:04, 52.81it/s]"
     ]
    },
    {
     "name": "stdout",
     "output_type": "stream",
     "text": [
      "Empty\n",
      ".DS_Store\n",
      ".DS_Store\n"
     ]
    },
    {
     "name": "stderr",
     "output_type": "stream",
     "text": [
      " 87%|████████▋ | 194/223 [03:11<01:23,  2.87s/it]"
     ]
    },
    {
     "name": "stdout",
     "output_type": "stream",
     "text": [
      ".DS_Store\n"
     ]
    },
    {
     "name": "stderr",
     "output_type": "stream",
     "text": [
      "100%|██████████| 223/223 [04:51<00:00,  1.31s/it]\n"
     ]
    }
   ],
   "source": [
    "df = pd.DataFrame()\n",
    "df_temp = pd.DataFrame()\n",
    "with open(testing_og_path, 'r',encoding='utf-8-sig') as tog:\n",
    "    testing_og_folders = tog.read().split()\n",
    "all_data = []\n",
    "    \n",
    "for folder_ in tqdm(testing_og_folders):\n",
    "    try:\n",
    "        files_in_folder = os.listdir(os.path.join(train_data_path, folder_))\n",
    "    except NotADirectoryError:\n",
    "        print(f'Skipping: {folder_}')\n",
    "        continue\n",
    "    for each_file in files_in_folder:\n",
    "        try:\n",
    "            idx = int(each_file.split('.')[0])\n",
    "            all_data.append(os.path.join(os.path.join(train_data_path, folder_),each_file))\n",
    "        except ValueError:\n",
    "            print(each_file)\n",
    "    df_temp['Files'] = all_data\n",
    "#     print(df_temp.shape)\n",
    "    if df.empty:\n",
    "        df = df_temp\n",
    "        print('Empty')\n",
    "    else:\n",
    "#         df.append(df_temp)\n",
    "        df = pd.concat([df, df_temp])\n",
    "    df_temp = pd.DataFrame()"
   ]
  },
  {
   "cell_type": "code",
   "execution_count": 29,
   "metadata": {},
   "outputs": [
    {
     "data": {
      "text/plain": [
       "997332"
      ]
     },
     "execution_count": 29,
     "metadata": {},
     "output_type": "execute_result"
    }
   ],
   "source": [
    "len(all_data)"
   ]
  },
  {
   "cell_type": "code",
   "execution_count": 33,
   "metadata": {},
   "outputs": [],
   "source": [
    "df.drop_duplicates(inplace=True)"
   ]
  },
  {
   "cell_type": "code",
   "execution_count": 34,
   "metadata": {},
   "outputs": [
    {
     "data": {
      "text/plain": [
       "(997332, 1)"
      ]
     },
     "execution_count": 34,
     "metadata": {},
     "output_type": "execute_result"
    }
   ],
   "source": [
    "df.shape"
   ]
  },
  {
   "cell_type": "code",
   "execution_count": 35,
   "metadata": {},
   "outputs": [],
   "source": [
    "with open(\"df_OGtest.pickle\", \"wb\") as op:\n",
    "    pickle.dump(df, op)"
   ]
  },
  {
   "cell_type": "code",
   "execution_count": 32,
   "metadata": {},
   "outputs": [
    {
     "name": "stdout",
     "output_type": "stream",
     "text": [
      "                                               Files\n",
      "0  /var/storage/cube-data/others/Tar/cropped_alig...\n",
      "1  /var/storage/cube-data/others/Tar/cropped_alig...\n",
      "2  /var/storage/cube-data/others/Tar/cropped_alig...\n",
      "3  /var/storage/cube-data/others/Tar/cropped_alig...\n",
      "4  /var/storage/cube-data/others/Tar/cropped_alig...\n"
     ]
    }
   ],
   "source": [
    "print(df.head())"
   ]
  },
  {
   "cell_type": "code",
   "execution_count": null,
   "metadata": {},
   "outputs": [],
   "source": [
    "df = pd.DataFrame()\n",
    "df_temp = pd.DataFrame()\n",
    "for label_folder in tqdm(all_label_files):\n",
    "    all_labels = []\n",
    "    with open(os.path.join(test_label_path,label_folder), 'r') as f:\n",
    "        next(f)\n",
    "        l = f.read().split()\n",
    "        for each_ in l:\n",
    "            all_labels.append(int(each_))\n",
    "    all_data = [0]*len(all_labels)\n",
    "    folder_path = label_folder.split('.')[0]\n",
    "    try:\n",
    "        files_in_folder = os.listdir(os.path.join(train_data_path, folder_path))\n",
    "    except NotADirectoryError:\n",
    "        print(f'Skipping: {folder_path}')\n",
    "        continue\n",
    "    for each_file in files_in_folder:\n",
    "        try:\n",
    "            idx = int(each_file.split('.')[0])\n",
    "            all_data[idx-1] = os.path.join(os.path.join(train_data_path, folder_path),each_file)\n",
    "        except ValueError:\n",
    "            print(each_file)\n",
    "    df_temp['Files'] = all_data\n",
    "    df_temp['labels'] = all_labels\n",
    "#     print(df_temp.shape)\n",
    "    if df.empty:\n",
    "        df = df_temp\n",
    "        print('Empty')\n",
    "    else:\n",
    "#         df.append(df_temp)\n",
    "        df = pd.concat([df, df_temp])\n",
    "    df_temp = pd.DataFrame()"
   ]
  },
  {
   "cell_type": "code",
   "execution_count": null,
   "metadata": {},
   "outputs": [],
   "source": [
    "df_test = df[df.Files != 0]"
   ]
  },
  {
   "cell_type": "code",
   "execution_count": null,
   "metadata": {},
   "outputs": [],
   "source": [
    "df_test.shape"
   ]
  },
  {
   "cell_type": "code",
   "execution_count": null,
   "metadata": {},
   "outputs": [],
   "source": [
    "df2_test = df_test[df_test.labels != -1]"
   ]
  },
  {
   "cell_type": "code",
   "execution_count": null,
   "metadata": {},
   "outputs": [],
   "source": [
    "with open(\"df2_test.pickle\", \"wb\") as op:\n",
    "    pickle.dump(df2_test, op)"
   ]
  }
 ],
 "metadata": {
  "kernelspec": {
   "display_name": "Python 3",
   "language": "python",
   "name": "python3"
  },
  "language_info": {
   "codemirror_mode": {
    "name": "ipython",
    "version": 3
   },
   "file_extension": ".py",
   "mimetype": "text/x-python",
   "name": "python",
   "nbconvert_exporter": "python",
   "pygments_lexer": "ipython3",
   "version": "3.8.2"
  }
 },
 "nbformat": 4,
 "nbformat_minor": 5
}
